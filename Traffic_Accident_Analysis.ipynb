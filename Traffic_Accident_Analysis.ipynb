{
 "cells": [
  {
   "cell_type": "code",
   "execution_count": 4,
   "id": "63970b95-0753-4706-ac6a-5021b5706e20",
   "metadata": {},
   "outputs": [],
   "source": [
    "import pandas as pd"
   ]
  },
  {
   "cell_type": "code",
   "execution_count": 5,
   "id": "aca6b48c-7843-493d-98fd-382c33433314",
   "metadata": {},
   "outputs": [],
   "source": [
    "df=pd.read_csv('accident.csv')"
   ]
  },
  {
   "cell_type": "code",
   "execution_count": 6,
   "id": "fa1b3d65-25e9-45b4-955c-e2791b59dd2d",
   "metadata": {},
   "outputs": [
    {
     "data": {
      "text/plain": [
       "(37654, 80)"
      ]
     },
     "execution_count": 6,
     "metadata": {},
     "output_type": "execute_result"
    }
   ],
   "source": [
    "df.shape"
   ]
  },
  {
   "cell_type": "code",
   "execution_count": 7,
   "id": "e0357317-6911-4dfa-b178-2b3da1ee3442",
   "metadata": {},
   "outputs": [
    {
     "data": {
      "text/html": [
       "<div>\n",
       "<style scoped>\n",
       "    .dataframe tbody tr th:only-of-type {\n",
       "        vertical-align: middle;\n",
       "    }\n",
       "\n",
       "    .dataframe tbody tr th {\n",
       "        vertical-align: top;\n",
       "    }\n",
       "\n",
       "    .dataframe thead th {\n",
       "        text-align: right;\n",
       "    }\n",
       "</style>\n",
       "<table border=\"1\" class=\"dataframe\">\n",
       "  <thead>\n",
       "    <tr style=\"text-align: right;\">\n",
       "      <th></th>\n",
       "      <th>STATE</th>\n",
       "      <th>STATENAME</th>\n",
       "      <th>ST_CASE</th>\n",
       "      <th>PEDS</th>\n",
       "      <th>PERNOTMVIT</th>\n",
       "      <th>VE_TOTAL</th>\n",
       "      <th>VE_FORMS</th>\n",
       "      <th>PVH_INVL</th>\n",
       "      <th>PERSONS</th>\n",
       "      <th>PERMVIT</th>\n",
       "      <th>...</th>\n",
       "      <th>NOT_MINNAME</th>\n",
       "      <th>ARR_HOUR</th>\n",
       "      <th>ARR_HOURNAME</th>\n",
       "      <th>ARR_MIN</th>\n",
       "      <th>ARR_MINNAME</th>\n",
       "      <th>HOSP_HR</th>\n",
       "      <th>HOSP_HRNAME</th>\n",
       "      <th>HOSP_MN</th>\n",
       "      <th>HOSP_MNNAME</th>\n",
       "      <th>FATALS</th>\n",
       "    </tr>\n",
       "  </thead>\n",
       "  <tbody>\n",
       "    <tr>\n",
       "      <th>0</th>\n",
       "      <td>1</td>\n",
       "      <td>Alabama</td>\n",
       "      <td>10001</td>\n",
       "      <td>0</td>\n",
       "      <td>0</td>\n",
       "      <td>1</td>\n",
       "      <td>1</td>\n",
       "      <td>0</td>\n",
       "      <td>1</td>\n",
       "      <td>1</td>\n",
       "      <td>...</td>\n",
       "      <td>20</td>\n",
       "      <td>22</td>\n",
       "      <td>10:00pm-10:59pm</td>\n",
       "      <td>45</td>\n",
       "      <td>45</td>\n",
       "      <td>88</td>\n",
       "      <td>Not Applicable (Not Transported)</td>\n",
       "      <td>88</td>\n",
       "      <td>Not Applicable (Not Transported)</td>\n",
       "      <td>1</td>\n",
       "    </tr>\n",
       "    <tr>\n",
       "      <th>1</th>\n",
       "      <td>1</td>\n",
       "      <td>Alabama</td>\n",
       "      <td>10002</td>\n",
       "      <td>0</td>\n",
       "      <td>0</td>\n",
       "      <td>1</td>\n",
       "      <td>1</td>\n",
       "      <td>0</td>\n",
       "      <td>1</td>\n",
       "      <td>1</td>\n",
       "      <td>...</td>\n",
       "      <td>8</td>\n",
       "      <td>2</td>\n",
       "      <td>2:00am-2:59am</td>\n",
       "      <td>23</td>\n",
       "      <td>23</td>\n",
       "      <td>88</td>\n",
       "      <td>Not Applicable (Not Transported)</td>\n",
       "      <td>88</td>\n",
       "      <td>Not Applicable (Not Transported)</td>\n",
       "      <td>1</td>\n",
       "    </tr>\n",
       "    <tr>\n",
       "      <th>2</th>\n",
       "      <td>1</td>\n",
       "      <td>Alabama</td>\n",
       "      <td>10003</td>\n",
       "      <td>0</td>\n",
       "      <td>0</td>\n",
       "      <td>1</td>\n",
       "      <td>1</td>\n",
       "      <td>0</td>\n",
       "      <td>1</td>\n",
       "      <td>1</td>\n",
       "      <td>...</td>\n",
       "      <td>48</td>\n",
       "      <td>23</td>\n",
       "      <td>11:00pm-11:59pm</td>\n",
       "      <td>8</td>\n",
       "      <td>8</td>\n",
       "      <td>88</td>\n",
       "      <td>Not Applicable (Not Transported)</td>\n",
       "      <td>88</td>\n",
       "      <td>Not Applicable (Not Transported)</td>\n",
       "      <td>1</td>\n",
       "    </tr>\n",
       "    <tr>\n",
       "      <th>3</th>\n",
       "      <td>1</td>\n",
       "      <td>Alabama</td>\n",
       "      <td>10004</td>\n",
       "      <td>0</td>\n",
       "      <td>0</td>\n",
       "      <td>1</td>\n",
       "      <td>1</td>\n",
       "      <td>0</td>\n",
       "      <td>3</td>\n",
       "      <td>3</td>\n",
       "      <td>...</td>\n",
       "      <td>0</td>\n",
       "      <td>19</td>\n",
       "      <td>7:00pm-7:59pm</td>\n",
       "      <td>44</td>\n",
       "      <td>44</td>\n",
       "      <td>99</td>\n",
       "      <td>Unknown</td>\n",
       "      <td>99</td>\n",
       "      <td>Unknown EMS Hospital Arrival Time</td>\n",
       "      <td>1</td>\n",
       "    </tr>\n",
       "    <tr>\n",
       "      <th>4</th>\n",
       "      <td>1</td>\n",
       "      <td>Alabama</td>\n",
       "      <td>10005</td>\n",
       "      <td>0</td>\n",
       "      <td>0</td>\n",
       "      <td>1</td>\n",
       "      <td>1</td>\n",
       "      <td>0</td>\n",
       "      <td>4</td>\n",
       "      <td>4</td>\n",
       "      <td>...</td>\n",
       "      <td>53</td>\n",
       "      <td>15</td>\n",
       "      <td>3:00pm-3:59pm</td>\n",
       "      <td>8</td>\n",
       "      <td>8</td>\n",
       "      <td>99</td>\n",
       "      <td>Unknown</td>\n",
       "      <td>99</td>\n",
       "      <td>Unknown EMS Hospital Arrival Time</td>\n",
       "      <td>1</td>\n",
       "    </tr>\n",
       "  </tbody>\n",
       "</table>\n",
       "<p>5 rows × 80 columns</p>\n",
       "</div>"
      ],
      "text/plain": [
       "   STATE STATENAME  ST_CASE  PEDS  PERNOTMVIT  VE_TOTAL  VE_FORMS  PVH_INVL  \\\n",
       "0      1   Alabama    10001     0           0         1         1         0   \n",
       "1      1   Alabama    10002     0           0         1         1         0   \n",
       "2      1   Alabama    10003     0           0         1         1         0   \n",
       "3      1   Alabama    10004     0           0         1         1         0   \n",
       "4      1   Alabama    10005     0           0         1         1         0   \n",
       "\n",
       "   PERSONS  PERMVIT  ...  NOT_MINNAME ARR_HOUR     ARR_HOURNAME ARR_MIN  \\\n",
       "0        1        1  ...           20       22  10:00pm-10:59pm      45   \n",
       "1        1        1  ...            8        2    2:00am-2:59am      23   \n",
       "2        1        1  ...           48       23  11:00pm-11:59pm       8   \n",
       "3        3        3  ...            0       19    7:00pm-7:59pm      44   \n",
       "4        4        4  ...           53       15    3:00pm-3:59pm       8   \n",
       "\n",
       "   ARR_MINNAME HOSP_HR                       HOSP_HRNAME  HOSP_MN  \\\n",
       "0           45      88  Not Applicable (Not Transported)       88   \n",
       "1           23      88  Not Applicable (Not Transported)       88   \n",
       "2            8      88  Not Applicable (Not Transported)       88   \n",
       "3           44      99                           Unknown       99   \n",
       "4            8      99                           Unknown       99   \n",
       "\n",
       "                         HOSP_MNNAME FATALS  \n",
       "0   Not Applicable (Not Transported)      1  \n",
       "1   Not Applicable (Not Transported)      1  \n",
       "2   Not Applicable (Not Transported)      1  \n",
       "3  Unknown EMS Hospital Arrival Time      1  \n",
       "4  Unknown EMS Hospital Arrival Time      1  \n",
       "\n",
       "[5 rows x 80 columns]"
      ]
     },
     "execution_count": 7,
     "metadata": {},
     "output_type": "execute_result"
    }
   ],
   "source": [
    "df.head()"
   ]
  },
  {
   "cell_type": "code",
   "execution_count": 8,
   "id": "414fd9da-17ef-4e72-a1ea-058ff62dee6d",
   "metadata": {},
   "outputs": [
    {
     "name": "stdout",
     "output_type": "stream",
     "text": [
      "<class 'pandas.core.frame.DataFrame'>\n",
      "RangeIndex: 37654 entries, 0 to 37653\n",
      "Data columns (total 80 columns):\n",
      " #   Column        Non-Null Count  Dtype  \n",
      "---  ------        --------------  -----  \n",
      " 0   STATE         37654 non-null  int64  \n",
      " 1   STATENAME     37654 non-null  object \n",
      " 2   ST_CASE       37654 non-null  int64  \n",
      " 3   PEDS          37654 non-null  int64  \n",
      " 4   PERNOTMVIT    37654 non-null  int64  \n",
      " 5   VE_TOTAL      37654 non-null  int64  \n",
      " 6   VE_FORMS      37654 non-null  int64  \n",
      " 7   PVH_INVL      37654 non-null  int64  \n",
      " 8   PERSONS       37654 non-null  int64  \n",
      " 9   PERMVIT       37654 non-null  int64  \n",
      " 10  COUNTY        37654 non-null  int64  \n",
      " 11  COUNTYNAME    37654 non-null  object \n",
      " 12  CITY          37654 non-null  int64  \n",
      " 13  CITYNAME      37654 non-null  object \n",
      " 14  MONTH         37654 non-null  int64  \n",
      " 15  MONTHNAME     37654 non-null  object \n",
      " 16  DAY           37654 non-null  int64  \n",
      " 17  DAYNAME       37654 non-null  int64  \n",
      " 18  DAY_WEEK      37654 non-null  int64  \n",
      " 19  DAY_WEEKNAME  37654 non-null  object \n",
      " 20  YEAR          37654 non-null  int64  \n",
      " 21  HOUR          37654 non-null  int64  \n",
      " 22  HOURNAME      37654 non-null  object \n",
      " 23  MINUTE        37654 non-null  int64  \n",
      " 24  MINUTENAME    37654 non-null  object \n",
      " 25  TWAY_ID       37653 non-null  object \n",
      " 26  TWAY_ID2      9728 non-null   object \n",
      " 27  ROUTE         37654 non-null  int64  \n",
      " 28  ROUTENAME     37654 non-null  object \n",
      " 29  RUR_URB       37654 non-null  int64  \n",
      " 30  RUR_URBNAME   37654 non-null  object \n",
      " 31  FUNC_SYS      37654 non-null  int64  \n",
      " 32  FUNC_SYSNAME  37654 non-null  object \n",
      " 33  RD_OWNER      37654 non-null  int64  \n",
      " 34  RD_OWNERNAME  37654 non-null  object \n",
      " 35  NHS           37654 non-null  int64  \n",
      " 36  NHSNAME       37654 non-null  object \n",
      " 37  SP_JUR        37654 non-null  int64  \n",
      " 38  SP_JURNAME    37654 non-null  object \n",
      " 39  MILEPT        37654 non-null  int64  \n",
      " 40  MILEPTNAME    32143 non-null  object \n",
      " 41  LATITUDE      37654 non-null  float64\n",
      " 42  LATITUDENAME  37654 non-null  float64\n",
      " 43  LONGITUD      37654 non-null  float64\n",
      " 44  LONGITUDNAME  37654 non-null  float64\n",
      " 45  HARM_EV       37654 non-null  int64  \n",
      " 46  HARM_EVNAME   37654 non-null  object \n",
      " 47  MAN_COLL      37654 non-null  int64  \n",
      " 48  MAN_COLLNAME  37654 non-null  object \n",
      " 49  RELJCT1       37654 non-null  int64  \n",
      " 50  RELJCT1NAME   37654 non-null  object \n",
      " 51  RELJCT2       37654 non-null  int64  \n",
      " 52  RELJCT2NAME   37654 non-null  object \n",
      " 53  TYP_INT       37654 non-null  int64  \n",
      " 54  TYP_INTNAME   37654 non-null  object \n",
      " 55  REL_ROAD      37654 non-null  int64  \n",
      " 56  REL_ROADNAME  37654 non-null  object \n",
      " 57  WRK_ZONE      37654 non-null  int64  \n",
      " 58  WRK_ZONENAME  817 non-null    object \n",
      " 59  LGT_COND      37654 non-null  int64  \n",
      " 60  LGT_CONDNAME  37654 non-null  object \n",
      " 61  WEATHER       37654 non-null  int64  \n",
      " 62  WEATHERNAME   37654 non-null  object \n",
      " 63  SCH_BUS       37654 non-null  int64  \n",
      " 64  SCH_BUSNAME   37654 non-null  object \n",
      " 65  RAIL          37654 non-null  object \n",
      " 66  RAILNAME      37654 non-null  object \n",
      " 67  NOT_HOUR      37654 non-null  int64  \n",
      " 68  NOT_HOURNAME  37654 non-null  object \n",
      " 69  NOT_MIN       37654 non-null  int64  \n",
      " 70  NOT_MINNAME   37654 non-null  object \n",
      " 71  ARR_HOUR      37654 non-null  int64  \n",
      " 72  ARR_HOURNAME  37654 non-null  object \n",
      " 73  ARR_MIN       37654 non-null  int64  \n",
      " 74  ARR_MINNAME   37654 non-null  object \n",
      " 75  HOSP_HR       37654 non-null  int64  \n",
      " 76  HOSP_HRNAME   37654 non-null  object \n",
      " 77  HOSP_MN       37654 non-null  int64  \n",
      " 78  HOSP_MNNAME   37654 non-null  object \n",
      " 79  FATALS        37654 non-null  int64  \n",
      "dtypes: float64(4), int64(42), object(34)\n",
      "memory usage: 23.0+ MB\n"
     ]
    }
   ],
   "source": [
    "df.info()"
   ]
  },
  {
   "cell_type": "code",
   "execution_count": 15,
   "id": "fdb4416e-05b5-48d5-9bb3-d0ca32900b83",
   "metadata": {},
   "outputs": [
    {
     "data": {
      "text/plain": [
       "5512"
      ]
     },
     "execution_count": 15,
     "metadata": {},
     "output_type": "execute_result"
    }
   ],
   "source": [
    "df.isnull().sum().sum()"
   ]
  },
  {
   "cell_type": "code",
   "execution_count": 12,
   "id": "be7c7de5-28eb-4f52-833b-0add8c044204",
   "metadata": {},
   "outputs": [
    {
     "data": {
      "text/plain": [
       "37654"
      ]
     },
     "execution_count": 12,
     "metadata": {},
     "output_type": "execute_result"
    }
   ],
   "source": [
    "len(df)"
   ]
  },
  {
   "cell_type": "code",
   "execution_count": 13,
   "id": "9d39af87-9509-43b8-a9aa-5753e98a1a8b",
   "metadata": {},
   "outputs": [],
   "source": [
    "df = df.dropna(thresh=len(df)*0.5, axis=1)"
   ]
  },
  {
   "cell_type": "code",
   "execution_count": 14,
   "id": "ca9e199f-9561-4f90-864d-bedabdb8e909",
   "metadata": {},
   "outputs": [
    {
     "data": {
      "text/plain": [
       "5512"
      ]
     },
     "execution_count": 14,
     "metadata": {},
     "output_type": "execute_result"
    }
   ],
   "source": [
    "df.isnull().sum().sum()"
   ]
  },
  {
   "cell_type": "code",
   "execution_count": 16,
   "id": "b47e2541-5409-419e-af47-a2278b0440b2",
   "metadata": {},
   "outputs": [],
   "source": [
    "df = df.dropna(subset=['LATITUDE', 'LONGITUD', 'WEATHERNAME', 'FATALS'])"
   ]
  },
  {
   "cell_type": "code",
   "execution_count": 17,
   "id": "2ccc8691-e866-447e-a781-8a08db1645cd",
   "metadata": {},
   "outputs": [
    {
     "data": {
      "text/plain": [
       "5512"
      ]
     },
     "execution_count": 17,
     "metadata": {},
     "output_type": "execute_result"
    }
   ],
   "source": [
    "df.isnull().sum().sum()"
   ]
  },
  {
   "cell_type": "code",
   "execution_count": 18,
   "id": "96cdabd6-e308-4797-b9de-62e485a7cfed",
   "metadata": {},
   "outputs": [
    {
     "data": {
      "text/plain": [
       "(37654, 78)"
      ]
     },
     "execution_count": 18,
     "metadata": {},
     "output_type": "execute_result"
    }
   ],
   "source": [
    "df.shape"
   ]
  },
  {
   "cell_type": "code",
   "execution_count": 19,
   "id": "ed9ddcee-b46d-4db7-92ad-0be61c73bc77",
   "metadata": {},
   "outputs": [],
   "source": [
    "df['HOUR'] = pd.to_numeric(df['HOUR'], errors='coerce')"
   ]
  },
  {
   "cell_type": "code",
   "execution_count": 20,
   "id": "fe8547ed-4774-4dd1-964a-776b79ec2b99",
   "metadata": {},
   "outputs": [],
   "source": [
    "df['Time_Of_Day'] = df['HOUR'].apply(\n",
    "    lambda x: 'Night' if x < 6 else 'Morning' if x < 12 else 'Afternoon' if x < 18 else 'Evening'\n",
    ")"
   ]
  },
  {
   "cell_type": "code",
   "execution_count": 21,
   "id": "6ae5799d-2a26-437f-aec3-6c8ee8420a8b",
   "metadata": {},
   "outputs": [],
   "source": [
    "df['LOCATION'] = df['CITYNAME'].fillna('') + ', ' + df['STATENAME'].fillna('')"
   ]
  },
  {
   "cell_type": "code",
   "execution_count": 22,
   "id": "53c34291-c5b7-4a67-9c6f-26aedc0f4c0a",
   "metadata": {},
   "outputs": [
    {
     "data": {
      "text/plain": [
       "(37654, 80)"
      ]
     },
     "execution_count": 22,
     "metadata": {},
     "output_type": "execute_result"
    }
   ],
   "source": [
    "df.shape"
   ]
  },
  {
   "cell_type": "code",
   "execution_count": 23,
   "id": "cfb127ed-7c7d-4f68-b848-27b083a0afbf",
   "metadata": {},
   "outputs": [
    {
     "data": {
      "image/png": "[encoded data removed]",
      "text/plain": [
       "<Figure size 640x480 with 1 Axes>"
      ]
     },
     "metadata": {},
     "output_type": "display_data"
    }
   ],
   "source": [
    "import seaborn as sns\n",
    "import matplotlib.pyplot as plt\n",
    "\n",
    "sns.countplot(data=df, x='Time_Of_Day', order=['Morning', 'Afternoon', 'Evening', 'Night'])\n",
    "plt.title('Accidents by Time of Day')\n",
    "plt.show()\n"
   ]
  },
  {
   "cell_type": "code",
   "execution_count": 24,
   "id": "8f790c66-8892-4c38-9a4f-1023fa3feec5",
   "metadata": {},
   "outputs": [
    {
     "data": {
      "image/png": "[encoded data removed]",
      "text/plain": [
       "<Figure size 640x480 with 1 Axes>"
      ]
     },
     "metadata": {},
     "output_type": "display_data"
    }
   ],
   "source": [
    "df['WEATHERNAME'].value_counts().head(10).plot(kind='barh')\n",
    "plt.title('Top 10 Weather Conditions')\n",
    "plt.show()"
   ]
  },
  {
   "cell_type": "code",
   "execution_count": 25,
   "id": "c0557dee-adc1-4fef-8cb7-2e2364d95673",
   "metadata": {},
   "outputs": [
    {
     "data": {
      "image/png": "[encoded data removed]",
      "text/plain": [
       "<Figure size 640x480 with 1 Axes>"
      ]
     },
     "metadata": {},
     "output_type": "display_data"
    }
   ],
   "source": [
    "df['REL_ROADNAME'].value_counts().head(10).plot(kind='barh')\n",
    "plt.title('Top Road Conditions During Accidents')\n",
    "plt.show()"
   ]
  },
  {
   "cell_type": "code",
   "execution_count": 26,
   "id": "2fbfe65e-de49-423b-92be-3b2f6585b018",
   "metadata": {},
   "outputs": [
    {
     "data": {
      "image/png": "[encoded data removed]",
      "text/plain": [
       "<Figure size 1200x600 with 1 Axes>"
      ]
     },
     "metadata": {},
     "output_type": "display_data"
    }
   ],
   "source": [
    "df.groupby('HOUR')['FATALS'].sum().plot(kind='bar', figsize=(12,6))\n",
    "plt.title('Fatalities by Hour of Day')\n",
    "plt.xlabel('Hour')\n",
    "plt.ylabel('Number of Fatalities')\n",
    "plt.show()"
   ]
  },
  {
   "cell_type": "code",
   "execution_count": 27,
   "id": "d68d64fa-b3a8-47b3-8bac-973c04750034",
   "metadata": {},
   "outputs": [
    {
     "data": {
      "text/plain": [
       "WEATHERNAME\n",
       "Blowing Sand, Soil, Dirt    1.666667\n",
       "Blowing Snow                1.194444\n",
       "Severe Crosswinds           1.159091\n",
       "Fog, Smog, Smoke            1.117794\n",
       "Snow                        1.112613\n",
       "Sleet or Hail               1.111111\n",
       "Clear                       1.087579\n",
       "Cloudy                      1.082991\n",
       "Rain                        1.076226\n",
       "Not Reported                1.070552\n",
       "Name: FATALS, dtype: float64"
      ]
     },
     "execution_count": 27,
     "metadata": {},
     "output_type": "execute_result"
    }
   ],
   "source": [
    "df.groupby('WEATHERNAME')['FATALS'].mean().sort_values(ascending=False).head(10)\n"
   ]
  },
  {
   "cell_type": "code",
   "execution_count": 28,
   "id": "6e5f92ed-7027-470f-a7f4-9af3c8056292",
   "metadata": {},
   "outputs": [],
   "source": [
    "import folium\n",
    "from folium.plugins import HeatMap\n",
    "\n",
    "# Base map centered over USA\n",
    "map = folium.Map(location=[39.5, -98.35], zoom_start=4)\n",
    "\n",
    "# Subset for performance\n",
    "sample = df[['LATITUDE', 'LONGITUD']].dropna().sample(5000)\n",
    "\n",
    "# Add heatmap\n",
    "HeatMap(data=sample.values.tolist()).add_to(map)\n",
    "\n",
    "# Save map\n",
    "map.save(\"accident_hotspots.html\")\n"
   ]
  },
  {
   "cell_type": "code",
   "execution_count": 30,
   "id": "8dd3cd33-4bee-46e9-b3c5-bd7ee4d19ec4",
   "metadata": {},
   "outputs": [
    {
     "data": {
      "image/png": "[encoded data removed]",
      "text/plain": [
       "<Figure size 640x480 with 1 Axes>"
      ]
     },
     "metadata": {},
     "output_type": "display_data"
    }
   ],
   "source": [
    "df['STATENAME'].value_counts().head(10).plot(kind='barh')\n",
    "plt.title('Top 10 States with Most Accidents')\n",
    "plt.show()"
   ]
  },
  {
   "cell_type": "code",
   "execution_count": 31,
   "id": "2beb1f40-d762-4178-b3d3-200f0a79c043",
   "metadata": {},
   "outputs": [
    {
     "data": {
      "text/plain": [
       "MILEPTNAME      5511\n",
       "TWAY_ID            1\n",
       "STATE              0\n",
       "RELJCT2NAME        0\n",
       "LGT_COND           0\n",
       "WRK_ZONE           0\n",
       "REL_ROADNAME       0\n",
       "REL_ROAD           0\n",
       "TYP_INTNAME        0\n",
       "TYP_INT            0\n",
       "RELJCT2            0\n",
       "WEATHER            0\n",
       "RELJCT1NAME        0\n",
       "RELJCT1            0\n",
       "MAN_COLLNAME       0\n",
       "MAN_COLL           0\n",
       "HARM_EVNAME        0\n",
       "HARM_EV            0\n",
       "LONGITUDNAME       0\n",
       "LGT_CONDNAME       0\n",
       "dtype: int64"
      ]
     },
     "execution_count": 31,
     "metadata": {},
     "output_type": "execute_result"
    }
   ],
   "source": [
    "df.isnull().sum().sort_values(ascending=False).head(20)"
   ]
  },
  {
   "cell_type": "code",
   "execution_count": 32,
   "id": "25d8c142-a7a8-4d5b-8fe4-2ea8ae5675f4",
   "metadata": {},
   "outputs": [
    {
     "data": {
      "text/html": [
       "<div>\n",
       "<style scoped>\n",
       "    .dataframe tbody tr th:only-of-type {\n",
       "        vertical-align: middle;\n",
       "    }\n",
       "\n",
       "    .dataframe tbody tr th {\n",
       "        vertical-align: top;\n",
       "    }\n",
       "\n",
       "    .dataframe thead th {\n",
       "        text-align: right;\n",
       "    }\n",
       "</style>\n",
       "<table border=\"1\" class=\"dataframe\">\n",
       "  <thead>\n",
       "    <tr style=\"text-align: right;\">\n",
       "      <th></th>\n",
       "      <th>STATE</th>\n",
       "      <th>ST_CASE</th>\n",
       "      <th>PEDS</th>\n",
       "      <th>PERNOTMVIT</th>\n",
       "      <th>VE_TOTAL</th>\n",
       "      <th>VE_FORMS</th>\n",
       "      <th>PVH_INVL</th>\n",
       "      <th>PERSONS</th>\n",
       "      <th>PERMVIT</th>\n",
       "      <th>COUNTY</th>\n",
       "      <th>...</th>\n",
       "      <th>LGT_COND</th>\n",
       "      <th>WEATHER</th>\n",
       "      <th>SCH_BUS</th>\n",
       "      <th>NOT_HOUR</th>\n",
       "      <th>NOT_MIN</th>\n",
       "      <th>ARR_HOUR</th>\n",
       "      <th>ARR_MIN</th>\n",
       "      <th>HOSP_HR</th>\n",
       "      <th>HOSP_MN</th>\n",
       "      <th>FATALS</th>\n",
       "    </tr>\n",
       "  </thead>\n",
       "  <tbody>\n",
       "    <tr>\n",
       "      <th>count</th>\n",
       "      <td>37654.000000</td>\n",
       "      <td>37654.000000</td>\n",
       "      <td>37654.000000</td>\n",
       "      <td>37654.000000</td>\n",
       "      <td>37654.000000</td>\n",
       "      <td>37654.000000</td>\n",
       "      <td>37654.000000</td>\n",
       "      <td>37654.000000</td>\n",
       "      <td>37654.000000</td>\n",
       "      <td>37654.000000</td>\n",
       "      <td>...</td>\n",
       "      <td>37654.000000</td>\n",
       "      <td>37654.000000</td>\n",
       "      <td>37654.000000</td>\n",
       "      <td>37654.000000</td>\n",
       "      <td>37654.000000</td>\n",
       "      <td>37654.000000</td>\n",
       "      <td>37654.000000</td>\n",
       "      <td>37654.000000</td>\n",
       "      <td>37654.000000</td>\n",
       "      <td>37654.000000</td>\n",
       "    </tr>\n",
       "    <tr>\n",
       "      <th>mean</th>\n",
       "      <td>27.304350</td>\n",
       "      <td>273893.087375</td>\n",
       "      <td>0.246640</td>\n",
       "      <td>0.258751</td>\n",
       "      <td>1.588809</td>\n",
       "      <td>1.548813</td>\n",
       "      <td>0.039996</td>\n",
       "      <td>2.207282</td>\n",
       "      <td>2.195172</td>\n",
       "      <td>92.568837</td>\n",
       "      <td>...</td>\n",
       "      <td>1.982286</td>\n",
       "      <td>6.082116</td>\n",
       "      <td>0.003081</td>\n",
       "      <td>58.696925</td>\n",
       "      <td>68.086339</td>\n",
       "      <td>60.323259</td>\n",
       "      <td>69.367690</td>\n",
       "      <td>76.548282</td>\n",
       "      <td>80.071493</td>\n",
       "      <td>1.086233</td>\n",
       "    </tr>\n",
       "    <tr>\n",
       "      <th>std</th>\n",
       "      <td>16.490819</td>\n",
       "      <td>164823.148700</td>\n",
       "      <td>0.492486</td>\n",
       "      <td>0.523579</td>\n",
       "      <td>0.842440</td>\n",
       "      <td>0.803674</td>\n",
       "      <td>0.282445</td>\n",
       "      <td>1.691668</td>\n",
       "      <td>1.684175</td>\n",
       "      <td>98.855373</td>\n",
       "      <td>...</td>\n",
       "      <td>1.215709</td>\n",
       "      <td>18.709699</td>\n",
       "      <td>0.055419</td>\n",
       "      <td>43.164030</td>\n",
       "      <td>36.384085</td>\n",
       "      <td>43.005261</td>\n",
       "      <td>36.158108</td>\n",
       "      <td>33.463910</td>\n",
       "      <td>28.068737</td>\n",
       "      <td>0.353643</td>\n",
       "    </tr>\n",
       "    <tr>\n",
       "      <th>min</th>\n",
       "      <td>1.000000</td>\n",
       "      <td>10001.000000</td>\n",
       "      <td>0.000000</td>\n",
       "      <td>0.000000</td>\n",
       "      <td>1.000000</td>\n",
       "      <td>1.000000</td>\n",
       "      <td>0.000000</td>\n",
       "      <td>0.000000</td>\n",
       "      <td>0.000000</td>\n",
       "      <td>1.000000</td>\n",
       "      <td>...</td>\n",
       "      <td>1.000000</td>\n",
       "      <td>1.000000</td>\n",
       "      <td>0.000000</td>\n",
       "      <td>0.000000</td>\n",
       "      <td>0.000000</td>\n",
       "      <td>0.000000</td>\n",
       "      <td>0.000000</td>\n",
       "      <td>0.000000</td>\n",
       "      <td>0.000000</td>\n",
       "      <td>1.000000</td>\n",
       "    </tr>\n",
       "    <tr>\n",
       "      <th>25%</th>\n",
       "      <td>12.000000</td>\n",
       "      <td>121977.500000</td>\n",
       "      <td>0.000000</td>\n",
       "      <td>0.000000</td>\n",
       "      <td>1.000000</td>\n",
       "      <td>1.000000</td>\n",
       "      <td>0.000000</td>\n",
       "      <td>1.000000</td>\n",
       "      <td>1.000000</td>\n",
       "      <td>31.000000</td>\n",
       "      <td>...</td>\n",
       "      <td>1.000000</td>\n",
       "      <td>1.000000</td>\n",
       "      <td>0.000000</td>\n",
       "      <td>15.000000</td>\n",
       "      <td>33.000000</td>\n",
       "      <td>15.000000</td>\n",
       "      <td>35.000000</td>\n",
       "      <td>88.000000</td>\n",
       "      <td>88.000000</td>\n",
       "      <td>1.000000</td>\n",
       "    </tr>\n",
       "    <tr>\n",
       "      <th>50%</th>\n",
       "      <td>27.000000</td>\n",
       "      <td>270059.500000</td>\n",
       "      <td>0.000000</td>\n",
       "      <td>0.000000</td>\n",
       "      <td>1.000000</td>\n",
       "      <td>1.000000</td>\n",
       "      <td>0.000000</td>\n",
       "      <td>2.000000</td>\n",
       "      <td>2.000000</td>\n",
       "      <td>71.000000</td>\n",
       "      <td>...</td>\n",
       "      <td>2.000000</td>\n",
       "      <td>1.000000</td>\n",
       "      <td>0.000000</td>\n",
       "      <td>99.000000</td>\n",
       "      <td>98.000000</td>\n",
       "      <td>99.000000</td>\n",
       "      <td>98.000000</td>\n",
       "      <td>88.000000</td>\n",
       "      <td>88.000000</td>\n",
       "      <td>1.000000</td>\n",
       "    </tr>\n",
       "    <tr>\n",
       "      <th>75%</th>\n",
       "      <td>42.000000</td>\n",
       "      <td>420770.750000</td>\n",
       "      <td>0.000000</td>\n",
       "      <td>0.000000</td>\n",
       "      <td>2.000000</td>\n",
       "      <td>2.000000</td>\n",
       "      <td>0.000000</td>\n",
       "      <td>3.000000</td>\n",
       "      <td>3.000000</td>\n",
       "      <td>115.000000</td>\n",
       "      <td>...</td>\n",
       "      <td>3.000000</td>\n",
       "      <td>2.000000</td>\n",
       "      <td>0.000000</td>\n",
       "      <td>99.000000</td>\n",
       "      <td>99.000000</td>\n",
       "      <td>99.000000</td>\n",
       "      <td>99.000000</td>\n",
       "      <td>99.000000</td>\n",
       "      <td>99.000000</td>\n",
       "      <td>1.000000</td>\n",
       "    </tr>\n",
       "    <tr>\n",
       "      <th>max</th>\n",
       "      <td>56.000000</td>\n",
       "      <td>560121.000000</td>\n",
       "      <td>19.000000</td>\n",
       "      <td>19.000000</td>\n",
       "      <td>35.000000</td>\n",
       "      <td>35.000000</td>\n",
       "      <td>9.000000</td>\n",
       "      <td>52.000000</td>\n",
       "      <td>52.000000</td>\n",
       "      <td>999.000000</td>\n",
       "      <td>...</td>\n",
       "      <td>9.000000</td>\n",
       "      <td>99.000000</td>\n",
       "      <td>1.000000</td>\n",
       "      <td>99.000000</td>\n",
       "      <td>99.000000</td>\n",
       "      <td>99.000000</td>\n",
       "      <td>99.000000</td>\n",
       "      <td>99.000000</td>\n",
       "      <td>99.000000</td>\n",
       "      <td>8.000000</td>\n",
       "    </tr>\n",
       "  </tbody>\n",
       "</table>\n",
       "<p>8 rows × 46 columns</p>\n",
       "</div>"
      ],
      "text/plain": [
       "              STATE        ST_CASE          PEDS    PERNOTMVIT      VE_TOTAL  \\\n",
       "count  37654.000000   37654.000000  37654.000000  37654.000000  37654.000000   \n",
       "mean      27.304350  273893.087375      0.246640      0.258751      1.588809   \n",
       "std       16.490819  164823.148700      0.492486      0.523579      0.842440   \n",
       "min        1.000000   10001.000000      0.000000      0.000000      1.000000   \n",
       "25%       12.000000  121977.500000      0.000000      0.000000      1.000000   \n",
       "50%       27.000000  270059.500000      0.000000      0.000000      1.000000   \n",
       "75%       42.000000  420770.750000      0.000000      0.000000      2.000000   \n",
       "max       56.000000  560121.000000     19.000000     19.000000     35.000000   \n",
       "\n",
       "           VE_FORMS      PVH_INVL       PERSONS       PERMVIT        COUNTY  \\\n",
       "count  37654.000000  37654.000000  37654.000000  37654.000000  37654.000000   \n",
       "mean       1.548813      0.039996      2.207282      2.195172     92.568837   \n",
       "std        0.803674      0.282445      1.691668      1.684175     98.855373   \n",
       "min        1.000000      0.000000      0.000000      0.000000      1.000000   \n",
       "25%        1.000000      0.000000      1.000000      1.000000     31.000000   \n",
       "50%        1.000000      0.000000      2.000000      2.000000     71.000000   \n",
       "75%        2.000000      0.000000      3.000000      3.000000    115.000000   \n",
       "max       35.000000      9.000000     52.000000     52.000000    999.000000   \n",
       "\n",
       "       ...      LGT_COND       WEATHER       SCH_BUS      NOT_HOUR  \\\n",
       "count  ...  37654.000000  37654.000000  37654.000000  37654.000000   \n",
       "mean   ...      1.982286      6.082116      0.003081     58.696925   \n",
       "std    ...      1.215709     18.709699      0.055419     43.164030   \n",
       "min    ...      1.000000      1.000000      0.000000      0.000000   \n",
       "25%    ...      1.000000      1.000000      0.000000     15.000000   \n",
       "50%    ...      2.000000      1.000000      0.000000     99.000000   \n",
       "75%    ...      3.000000      2.000000      0.000000     99.000000   \n",
       "max    ...      9.000000     99.000000      1.000000     99.000000   \n",
       "\n",
       "            NOT_MIN      ARR_HOUR       ARR_MIN       HOSP_HR       HOSP_MN  \\\n",
       "count  37654.000000  37654.000000  37654.000000  37654.000000  37654.000000   \n",
       "mean      68.086339     60.323259     69.367690     76.548282     80.071493   \n",
       "std       36.384085     43.005261     36.158108     33.463910     28.068737   \n",
       "min        0.000000      0.000000      0.000000      0.000000      0.000000   \n",
       "25%       33.000000     15.000000     35.000000     88.000000     88.000000   \n",
       "50%       98.000000     99.000000     98.000000     88.000000     88.000000   \n",
       "75%       99.000000     99.000000     99.000000     99.000000     99.000000   \n",
       "max       99.000000     99.000000     99.000000     99.000000     99.000000   \n",
       "\n",
       "             FATALS  \n",
       "count  37654.000000  \n",
       "mean       1.086233  \n",
       "std        0.353643  \n",
       "min        1.000000  \n",
       "25%        1.000000  \n",
       "50%        1.000000  \n",
       "75%        1.000000  \n",
       "max        8.000000  \n",
       "\n",
       "[8 rows x 46 columns]"
      ]
     },
     "execution_count": 32,
     "metadata": {},
     "output_type": "execute_result"
    }
   ],
   "source": [
    "df.describe()"
   ]
  },
  {
   "cell_type": "code",
   "execution_count": 33,
   "id": "dc5ef4b9-db74-4d5b-bc80-23d6d0187b77",
   "metadata": {},
   "outputs": [
    {
     "data": {
      "text/plain": [
       "HOUR\n",
       "20    2307\n",
       "21    2280\n",
       "18    2237\n",
       "19    2194\n",
       "17    2099\n",
       "22    1978\n",
       "16    1854\n",
       "15    1794\n",
       "14    1724\n",
       "23    1666\n",
       "0     1480\n",
       "13    1451\n",
       "2     1434\n",
       "12    1397\n",
       "1     1361\n",
       "6     1349\n",
       "5     1269\n",
       "7     1160\n",
       "11    1152\n",
       "3     1122\n",
       "10    1109\n",
       "4     1025\n",
       "9      991\n",
       "8      939\n",
       "99     282\n",
       "Name: count, dtype: int64"
      ]
     },
     "execution_count": 33,
     "metadata": {},
     "output_type": "execute_result"
    }
   ],
   "source": [
    "df['FATALS'].value_counts()\n",
    "df['WEATHERNAME'].value_counts()\n",
    "df['HOUR'].value_counts()\n"
   ]
  },
  {
   "cell_type": "code",
   "execution_count": 34,
   "id": "1304c065-b81e-44c8-b278-e9f284880a2a",
   "metadata": {},
   "outputs": [],
   "source": [
    "from sklearn.model_selection import train_test_split"
   ]
  },
  {
   "cell_type": "code",
   "execution_count": 35,
   "id": "5ebe5ff7-0287-4c90-9d69-5588dd5690f4",
   "metadata": {},
   "outputs": [],
   "source": [
    "df['is_fatal'] = df['FATALS'].apply(lambda x: 1 if x > 0 else 0)"
   ]
  },
  {
   "cell_type": "code",
   "execution_count": 44,
   "id": "9289b4fa-caae-4e83-922e-857a168081b0",
   "metadata": {},
   "outputs": [],
   "source": [
    "selected_features = [\n",
    "    'HOUR', 'DAY_WEEK', 'WEATHERNAME', 'LGT_CONDNAME', 'FUNC_SYSNAME',\n",
    "    'RELJCT1NAME', 'TYP_INTNAME', 'REL_ROADNAME', 'WRK_ZONE', 'MONTH'\n",
    "]"
   ]
  },
  {
   "cell_type": "code",
   "execution_count": 43,
   "id": "1aeb44d7-95bb-46eb-b146-b8586fae3591",
   "metadata": {},
   "outputs": [
    {
     "name": "stdout",
     "output_type": "stream",
     "text": [
      "<class 'pandas.core.frame.DataFrame'>\n",
      "RangeIndex: 37654 entries, 0 to 37653\n",
      "Data columns (total 81 columns):\n",
      " #   Column        Non-Null Count  Dtype  \n",
      "---  ------        --------------  -----  \n",
      " 0   STATE         37654 non-null  int64  \n",
      " 1   STATENAME     37654 non-null  object \n",
      " 2   ST_CASE       37654 non-null  int64  \n",
      " 3   PEDS          37654 non-null  int64  \n",
      " 4   PERNOTMVIT    37654 non-null  int64  \n",
      " 5   VE_TOTAL      37654 non-null  int64  \n",
      " 6   VE_FORMS      37654 non-null  int64  \n",
      " 7   PVH_INVL      37654 non-null  int64  \n",
      " 8   PERSONS       37654 non-null  int64  \n",
      " 9   PERMVIT       37654 non-null  int64  \n",
      " 10  COUNTY        37654 non-null  int64  \n",
      " 11  COUNTYNAME    37654 non-null  object \n",
      " 12  CITY          37654 non-null  int64  \n",
      " 13  CITYNAME      37654 non-null  object \n",
      " 14  MONTH         37654 non-null  int64  \n",
      " 15  MONTHNAME     37654 non-null  object \n",
      " 16  DAY           37654 non-null  int64  \n",
      " 17  DAYNAME       37654 non-null  int64  \n",
      " 18  DAY_WEEK      37654 non-null  int64  \n",
      " 19  DAY_WEEKNAME  37654 non-null  object \n",
      " 20  YEAR          37654 non-null  int64  \n",
      " 21  HOUR          37654 non-null  int64  \n",
      " 22  HOURNAME      37654 non-null  object \n",
      " 23  MINUTE        37654 non-null  int64  \n",
      " 24  MINUTENAME    37654 non-null  object \n",
      " 25  TWAY_ID       37653 non-null  object \n",
      " 26  ROUTE         37654 non-null  int64  \n",
      " 27  ROUTENAME     37654 non-null  object \n",
      " 28  RUR_URB       37654 non-null  int64  \n",
      " 29  RUR_URBNAME   37654 non-null  object \n",
      " 30  FUNC_SYS      37654 non-null  int64  \n",
      " 31  FUNC_SYSNAME  37654 non-null  object \n",
      " 32  RD_OWNER      37654 non-null  int64  \n",
      " 33  RD_OWNERNAME  37654 non-null  object \n",
      " 34  NHS           37654 non-null  int64  \n",
      " 35  NHSNAME       37654 non-null  object \n",
      " 36  SP_JUR        37654 non-null  int64  \n",
      " 37  SP_JURNAME    37654 non-null  object \n",
      " 38  MILEPT        37654 non-null  int64  \n",
      " 39  MILEPTNAME    32143 non-null  object \n",
      " 40  LATITUDE      37654 non-null  float64\n",
      " 41  LATITUDENAME  37654 non-null  float64\n",
      " 42  LONGITUD      37654 non-null  float64\n",
      " 43  LONGITUDNAME  37654 non-null  float64\n",
      " 44  HARM_EV       37654 non-null  int64  \n",
      " 45  HARM_EVNAME   37654 non-null  object \n",
      " 46  MAN_COLL      37654 non-null  int64  \n",
      " 47  MAN_COLLNAME  37654 non-null  object \n",
      " 48  RELJCT1       37654 non-null  int64  \n",
      " 49  RELJCT1NAME   37654 non-null  object \n",
      " 50  RELJCT2       37654 non-null  int64  \n",
      " 51  RELJCT2NAME   37654 non-null  object \n",
      " 52  TYP_INT       37654 non-null  int64  \n",
      " 53  TYP_INTNAME   37654 non-null  object \n",
      " 54  REL_ROAD      37654 non-null  int64  \n",
      " 55  REL_ROADNAME  37654 non-null  object \n",
      " 56  WRK_ZONE      37654 non-null  int64  \n",
      " 57  LGT_COND      37654 non-null  int64  \n",
      " 58  LGT_CONDNAME  37654 non-null  object \n",
      " 59  WEATHER       37654 non-null  int64  \n",
      " 60  WEATHERNAME   37654 non-null  object \n",
      " 61  SCH_BUS       37654 non-null  int64  \n",
      " 62  SCH_BUSNAME   37654 non-null  object \n",
      " 63  RAIL          37654 non-null  object \n",
      " 64  RAILNAME      37654 non-null  object \n",
      " 65  NOT_HOUR      37654 non-null  int64  \n",
      " 66  NOT_HOURNAME  37654 non-null  object \n",
      " 67  NOT_MIN       37654 non-null  int64  \n",
      " 68  NOT_MINNAME   37654 non-null  object \n",
      " 69  ARR_HOUR      37654 non-null  int64  \n",
      " 70  ARR_HOURNAME  37654 non-null  object \n",
      " 71  ARR_MIN       37654 non-null  int64  \n",
      " 72  ARR_MINNAME   37654 non-null  object \n",
      " 73  HOSP_HR       37654 non-null  int64  \n",
      " 74  HOSP_HRNAME   37654 non-null  object \n",
      " 75  HOSP_MN       37654 non-null  int64  \n",
      " 76  HOSP_MNNAME   37654 non-null  object \n",
      " 77  FATALS        37654 non-null  int64  \n",
      " 78  Time_Of_Day   37654 non-null  object \n",
      " 79  LOCATION      37654 non-null  object \n",
      " 80  is_fatal      37654 non-null  int64  \n",
      "dtypes: float64(4), int64(43), object(34)\n",
      "memory usage: 23.3+ MB\n"
     ]
    }
   ],
   "source": [
    "df.info()"
   ]
  },
  {
   "cell_type": "code",
   "execution_count": 40,
   "id": "21457316-5d5c-4aa0-9837-e7fbfdb404f4",
   "metadata": {},
   "outputs": [],
   "source": [
    "from sklearn.ensemble import RandomForestClassifier\n",
    "from sklearn.metrics import classification_report, confusion_matrix"
   ]
  },
  {
   "cell_type": "code",
   "execution_count": 45,
   "id": "c38cc63a-724a-46f3-8429-e302946376c2",
   "metadata": {},
   "outputs": [
    {
     "data": {
      "text/plain": [
       "HOUR            0\n",
       "DAY_WEEK        0\n",
       "WEATHERNAME     0\n",
       "LGT_CONDNAME    0\n",
       "FUNC_SYSNAME    0\n",
       "RELJCT1NAME     0\n",
       "TYP_INTNAME     0\n",
       "REL_ROADNAME    0\n",
       "WRK_ZONE        0\n",
       "MONTH           0\n",
       "dtype: int64"
      ]
     },
     "execution_count": 45,
     "metadata": {},
     "output_type": "execute_result"
    }
   ],
   "source": [
    "df[selected_features].isnull().sum()"
   ]
  },
  {
   "cell_type": "code",
   "execution_count": 46,
   "id": "cf7f9c84-6d42-4845-8dc5-303be5956efb",
   "metadata": {},
   "outputs": [],
   "source": [
    "df_clean = df[selected_features + ['is_fatal']].dropna()"
   ]
  },
  {
   "cell_type": "code",
   "execution_count": 47,
   "id": "fb9e95cb-a18c-4ab4-ab9f-f525c7ef0b46",
   "metadata": {},
   "outputs": [
    {
     "data": {
      "text/html": [
       "<div>\n",
       "<style scoped>\n",
       "    .dataframe tbody tr th:only-of-type {\n",
       "        vertical-align: middle;\n",
       "    }\n",
       "\n",
       "    .dataframe tbody tr th {\n",
       "        vertical-align: top;\n",
       "    }\n",
       "\n",
       "    .dataframe thead th {\n",
       "        text-align: right;\n",
       "    }\n",
       "</style>\n",
       "<table border=\"1\" class=\"dataframe\">\n",
       "  <thead>\n",
       "    <tr style=\"text-align: right;\">\n",
       "      <th></th>\n",
       "      <th>HOUR</th>\n",
       "      <th>DAY_WEEK</th>\n",
       "      <th>WEATHERNAME</th>\n",
       "      <th>LGT_CONDNAME</th>\n",
       "      <th>FUNC_SYSNAME</th>\n",
       "      <th>RELJCT1NAME</th>\n",
       "      <th>TYP_INTNAME</th>\n",
       "      <th>REL_ROADNAME</th>\n",
       "      <th>WRK_ZONE</th>\n",
       "      <th>MONTH</th>\n",
       "      <th>is_fatal</th>\n",
       "    </tr>\n",
       "  </thead>\n",
       "  <tbody>\n",
       "    <tr>\n",
       "      <th>0</th>\n",
       "      <td>22</td>\n",
       "      <td>4</td>\n",
       "      <td>Clear</td>\n",
       "      <td>Dark - Not Lighted</td>\n",
       "      <td>Major Collector</td>\n",
       "      <td>No</td>\n",
       "      <td>Not an Intersection</td>\n",
       "      <td>On Roadside</td>\n",
       "      <td>0</td>\n",
       "      <td>1</td>\n",
       "      <td>1</td>\n",
       "    </tr>\n",
       "    <tr>\n",
       "      <th>1</th>\n",
       "      <td>2</td>\n",
       "      <td>2</td>\n",
       "      <td>Clear</td>\n",
       "      <td>Dark - Not Lighted</td>\n",
       "      <td>Local</td>\n",
       "      <td>No</td>\n",
       "      <td>Not an Intersection</td>\n",
       "      <td>On Roadside</td>\n",
       "      <td>0</td>\n",
       "      <td>3</td>\n",
       "      <td>1</td>\n",
       "    </tr>\n",
       "    <tr>\n",
       "      <th>2</th>\n",
       "      <td>22</td>\n",
       "      <td>7</td>\n",
       "      <td>Clear</td>\n",
       "      <td>Dark - Not Lighted</td>\n",
       "      <td>Major Collector</td>\n",
       "      <td>No</td>\n",
       "      <td>Not an Intersection</td>\n",
       "      <td>On Roadside</td>\n",
       "      <td>0</td>\n",
       "      <td>3</td>\n",
       "      <td>1</td>\n",
       "    </tr>\n",
       "    <tr>\n",
       "      <th>3</th>\n",
       "      <td>19</td>\n",
       "      <td>6</td>\n",
       "      <td>Rain</td>\n",
       "      <td>Dark - Not Lighted</td>\n",
       "      <td>Local</td>\n",
       "      <td>No</td>\n",
       "      <td>Not an Intersection</td>\n",
       "      <td>On Roadside</td>\n",
       "      <td>0</td>\n",
       "      <td>3</td>\n",
       "      <td>1</td>\n",
       "    </tr>\n",
       "    <tr>\n",
       "      <th>4</th>\n",
       "      <td>14</td>\n",
       "      <td>6</td>\n",
       "      <td>Rain</td>\n",
       "      <td>Daylight</td>\n",
       "      <td>Interstate</td>\n",
       "      <td>No</td>\n",
       "      <td>Not an Intersection</td>\n",
       "      <td>On Roadside</td>\n",
       "      <td>0</td>\n",
       "      <td>3</td>\n",
       "      <td>1</td>\n",
       "    </tr>\n",
       "  </tbody>\n",
       "</table>\n",
       "</div>"
      ],
      "text/plain": [
       "   HOUR  DAY_WEEK WEATHERNAME        LGT_CONDNAME     FUNC_SYSNAME  \\\n",
       "0    22         4       Clear  Dark - Not Lighted  Major Collector   \n",
       "1     2         2       Clear  Dark - Not Lighted            Local   \n",
       "2    22         7       Clear  Dark - Not Lighted  Major Collector   \n",
       "3    19         6        Rain  Dark - Not Lighted            Local   \n",
       "4    14         6        Rain            Daylight       Interstate   \n",
       "\n",
       "  RELJCT1NAME          TYP_INTNAME REL_ROADNAME  WRK_ZONE  MONTH  is_fatal  \n",
       "0          No  Not an Intersection  On Roadside         0      1         1  \n",
       "1          No  Not an Intersection  On Roadside         0      3         1  \n",
       "2          No  Not an Intersection  On Roadside         0      3         1  \n",
       "3          No  Not an Intersection  On Roadside         0      3         1  \n",
       "4          No  Not an Intersection  On Roadside         0      3         1  "
      ]
     },
     "execution_count": 47,
     "metadata": {},
     "output_type": "execute_result"
    }
   ],
   "source": [
    "df_clean.head()"
   ]
  },
  {
   "cell_type": "code",
   "execution_count": 48,
   "id": "20e9784f-3906-473c-a645-12a1760187a7",
   "metadata": {},
   "outputs": [
    {
     "name": "stdout",
     "output_type": "stream",
     "text": [
      "<class 'pandas.core.frame.DataFrame'>\n",
      "RangeIndex: 37654 entries, 0 to 37653\n",
      "Data columns (total 11 columns):\n",
      " #   Column        Non-Null Count  Dtype \n",
      "---  ------        --------------  ----- \n",
      " 0   HOUR          37654 non-null  int64 \n",
      " 1   DAY_WEEK      37654 non-null  int64 \n",
      " 2   WEATHERNAME   37654 non-null  object\n",
      " 3   LGT_CONDNAME  37654 non-null  object\n",
      " 4   FUNC_SYSNAME  37654 non-null  object\n",
      " 5   RELJCT1NAME   37654 non-null  object\n",
      " 6   TYP_INTNAME   37654 non-null  object\n",
      " 7   REL_ROADNAME  37654 non-null  object\n",
      " 8   WRK_ZONE      37654 non-null  int64 \n",
      " 9   MONTH         37654 non-null  int64 \n",
      " 10  is_fatal      37654 non-null  int64 \n",
      "dtypes: int64(5), object(6)\n",
      "memory usage: 3.2+ MB\n"
     ]
    }
   ],
   "source": [
    "df_clean.info()"
   ]
  },
  {
   "cell_type": "code",
   "execution_count": 49,
   "id": "3d6e2c53-f618-479a-9f82-b0a6b61a1a6e",
   "metadata": {},
   "outputs": [],
   "source": [
    "df_encoded = pd.get_dummies(df_clean, columns=[\n",
    "    'WEATHERNAME', 'LGT_CONDNAME', 'FUNC_SYSNAME',\n",
    "    'RELJCT1NAME', 'TYP_INTNAME', 'REL_ROADNAME'\n",
    "], drop_first=True)"
   ]
  },
  {
   "cell_type": "code",
   "execution_count": 52,
   "id": "543149a2-ebb5-4bfb-8c65-94ce618920ad",
   "metadata": {},
   "outputs": [],
   "source": [
    "X=df_encoded.drop(columns='is_fatal')\n",
    "y=df_encoded['is_fatal']"
   ]
  },
  {
   "cell_type": "code",
   "execution_count": 53,
   "id": "712448d7-9132-4671-bd4d-52e42bd50815",
   "metadata": {},
   "outputs": [],
   "source": [
    "X_train, X_test, y_train, y_test = train_test_split(\n",
    "    X, y, test_size=0.2, random_state=42, stratify=y\n",
    ")"
   ]
  },
  {
   "cell_type": "code",
   "execution_count": 54,
   "id": "bcd2854c-c83a-4de4-978f-36e12cbe30c5",
   "metadata": {},
   "outputs": [
    {
     "data": {
      "text/html": [
       "<style>#sk-container-id-1 {color: black;}#sk-container-id-1 pre{padding: 0;}#sk-container-id-1 div.sk-toggleable {background-color: white;}#sk-container-id-1 label.sk-toggleable__label {cursor: pointer;display: block;width: 100%;margin-bottom: 0;padding: 0.3em;box-sizing: border-box;text-align: center;}#sk-container-id-1 label.sk-toggleable__label-arrow:before {content: \"▸\";float: left;margin-right: 0.25em;color: #696969;}#sk-container-id-1 label.sk-toggleable__label-arrow:hover:before {color: black;}#sk-container-id-1 div.sk-estimator:hover label.sk-toggleable__label-arrow:before {color: black;}#sk-container-id-1 div.sk-toggleable__content {max-height: 0;max-width: 0;overflow: hidden;text-align: left;background-color: #f0f8ff;}#sk-container-id-1 div.sk-toggleable__content pre {margin: 0.2em;color: black;border-radius: 0.25em;background-color: #f0f8ff;}#sk-container-id-1 input.sk-toggleable__control:checked~div.sk-toggleable__content {max-height: 200px;max-width: 100%;overflow: auto;}#sk-container-id-1 input.sk-toggleable__control:checked~label.sk-toggleable__label-arrow:before {content: \"▾\";}#sk-container-id-1 div.sk-estimator input.sk-toggleable__control:checked~label.sk-toggleable__label {background-color: #d4ebff;}#sk-container-id-1 div.sk-label input.sk-toggleable__control:checked~label.sk-toggleable__label {background-color: #d4ebff;}#sk-container-id-1 input.sk-hidden--visually {border: 0;clip: rect(1px 1px 1px 1px);clip: rect(1px, 1px, 1px, 1px);height: 1px;margin: -1px;overflow: hidden;padding: 0;position: absolute;width: 1px;}#sk-container-id-1 div.sk-estimator {font-family: monospace;background-color: #f0f8ff;border: 1px dotted black;border-radius: 0.25em;box-sizing: border-box;margin-bottom: 0.5em;}#sk-container-id-1 div.sk-estimator:hover {background-color: #d4ebff;}#sk-container-id-1 div.sk-parallel-item::after {content: \"\";width: 100%;border-bottom: 1px solid gray;flex-grow: 1;}#sk-container-id-1 div.sk-label:hover label.sk-toggleable__label {background-color: #d4ebff;}#sk-container-id-1 div.sk-serial::before {content: \"\";position: absolute;border-left: 1px solid gray;box-sizing: border-box;top: 0;bottom: 0;left: 50%;z-index: 0;}#sk-container-id-1 div.sk-serial {display: flex;flex-direction: column;align-items: center;background-color: white;padding-right: 0.2em;padding-left: 0.2em;position: relative;}#sk-container-id-1 div.sk-item {position: relative;z-index: 1;}#sk-container-id-1 div.sk-parallel {display: flex;align-items: stretch;justify-content: center;background-color: white;position: relative;}#sk-container-id-1 div.sk-item::before, #sk-container-id-1 div.sk-parallel-item::before {content: \"\";position: absolute;border-left: 1px solid gray;box-sizing: border-box;top: 0;bottom: 0;left: 50%;z-index: -1;}#sk-container-id-1 div.sk-parallel-item {display: flex;flex-direction: column;z-index: 1;position: relative;background-color: white;}#sk-container-id-1 div.sk-parallel-item:first-child::after {align-self: flex-end;width: 50%;}#sk-container-id-1 div.sk-parallel-item:last-child::after {align-self: flex-start;width: 50%;}#sk-container-id-1 div.sk-parallel-item:only-child::after {width: 0;}#sk-container-id-1 div.sk-dashed-wrapped {border: 1px dashed gray;margin: 0 0.4em 0.5em 0.4em;box-sizing: border-box;padding-bottom: 0.4em;background-color: white;}#sk-container-id-1 div.sk-label label {font-family: monospace;font-weight: bold;display: inline-block;line-height: 1.2em;}#sk-container-id-1 div.sk-label-container {text-align: center;}#sk-container-id-1 div.sk-container {/* jupyter's `normalize.less` sets `[hidden] { display: none; }` but bootstrap.min.css set `[hidden] { display: none !important; }` so we also need the `!important` here to be able to override the default hidden behavior on the sphinx rendered scikit-learn.org. See: https://github.com/scikit-learn/scikit-learn/issues/21755 */display: inline-block !important;position: relative;}#sk-container-id-1 div.sk-text-repr-fallback {display: none;}</style><div id=\"sk-container-id-1\" class=\"sk-top-container\"><div class=\"sk-text-repr-fallback\"><pre>RandomForestClassifier(random_state=42)</pre><b>In a Jupyter environment, please rerun this cell to show the HTML representation or trust the notebook. <br />On GitHub, the HTML representation is unable to render, please try loading this page with nbviewer.org.</b></div><div class=\"sk-container\" hidden><div class=\"sk-item\"><div class=\"sk-estimator sk-toggleable\"><input class=\"sk-toggleable__control sk-hidden--visually\" id=\"sk-estimator-id-1\" type=\"checkbox\" checked><label for=\"sk-estimator-id-1\" class=\"sk-toggleable__label sk-toggleable__label-arrow\">RandomForestClassifier</label><div class=\"sk-toggleable__content\"><pre>RandomForestClassifier(random_state=42)</pre></div></div></div></div></div>"
      ],
      "text/plain": [
       "RandomForestClassifier(random_state=42)"
      ]
     },
     "execution_count": 54,
     "metadata": {},
     "output_type": "execute_result"
    }
   ],
   "source": [
    "model = RandomForestClassifier(n_estimators=100, random_state=42)\n",
    "model.fit(X_train, y_train)"
   ]
  },
  {
   "cell_type": "code",
   "execution_count": 55,
   "id": "f851048a-c7f5-4970-bed6-b653ee81107e",
   "metadata": {},
   "outputs": [],
   "source": [
    "y_pred=model.predict(X_test)"
   ]
  },
  {
   "cell_type": "code",
   "execution_count": 56,
   "id": "8e700dec-1ad9-4a68-a6b6-5f347229b974",
   "metadata": {},
   "outputs": [
    {
     "data": {
      "text/plain": [
       "array([[7531]], dtype=int64)"
      ]
     },
     "execution_count": 56,
     "metadata": {},
     "output_type": "execute_result"
    }
   ],
   "source": [
    "confusion_matrix(y_test, y_pred)"
   ]
  },
  {
   "cell_type": "code",
   "execution_count": 57,
   "id": "c24777a2-bbdb-4884-b6d2-63f11eeb14e2",
   "metadata": {},
   "outputs": [
    {
     "data": {
      "text/plain": [
       "'              precision    recall  f1-score   support\\n\\n           1       1.00      1.00      1.00      7531\\n\\n    accuracy                           1.00      7531\\n   macro avg       1.00      1.00      1.00      7531\\nweighted avg       1.00      1.00      1.00      7531\\n'"
      ]
     },
     "execution_count": 57,
     "metadata": {},
     "output_type": "execute_result"
    }
   ],
   "source": [
    "classification_report(y_test, y_pred)"
   ]
  },
  {
   "cell_type": "code",
   "execution_count": 58,
   "id": "a6fc75df-7a01-452a-9961-97ca99c10103",
   "metadata": {},
   "outputs": [
    {
     "data": {
      "image/png": "[encoded data removed]",
      "text/plain": [
       "<Figure size 1200x600 with 1 Axes>"
      ]
     },
     "metadata": {},
     "output_type": "display_data"
    }
   ],
   "source": [
    "import matplotlib.pyplot as plt\n",
    "\n",
    "importances = model.feature_importances_\n",
    "features = X.columns\n",
    "indices = importances.argsort()[::-1]\n",
    "\n",
    "plt.figure(figsize=(12,6))\n",
    "plt.title(\"Feature Importances\")\n",
    "plt.bar(range(10), importances[indices[:10]])\n",
    "plt.xticks(range(10), features[indices[:10]], rotation=90)\n",
    "plt.tight_layout()\n",
    "plt.show()\n"
   ]
  },
  {
   "cell_type": "code",
   "execution_count": 63,
   "id": "48136649-332e-47e9-a29a-68ac409b0d03",
   "metadata": {},
   "outputs": [],
   "source": [
    "from sklearn.metrics import accuracy_score"
   ]
  },
  {
   "cell_type": "code",
   "execution_count": 64,
   "id": "afca74db-9d6c-4cc1-a0b3-f901a20dcd15",
   "metadata": {},
   "outputs": [
    {
     "data": {
      "text/plain": [
       "1.0"
      ]
     },
     "execution_count": 64,
     "metadata": {},
     "output_type": "execute_result"
    }
   ],
   "source": [
    "accuracy_score(y_pred,y_test)"
   ]
  },
  {
   "cell_type": "code",
   "execution_count": null,
   "id": "40696013-e251-44c4-8736-de62d201c381",
   "metadata": {},
   "outputs": [],
   "source": []
  }
 ],
 "metadata": {
  "kernelspec": {
   "display_name": "Python 3.8 (py38env)",
   "language": "python",
   "name": "py38env"
  },
  "language_info": {
   "codemirror_mode": {
    "name": "ipython",
    "version": 3
   },
   "file_extension": ".py",
   "mimetype": "text/x-python",
   "name": "python",
   "nbconvert_exporter": "python",
   "pygments_lexer": "ipython3",
   "version": "3.8.10"
  }
 },
 "nbformat": 4,
 "nbformat_minor": 5
}
